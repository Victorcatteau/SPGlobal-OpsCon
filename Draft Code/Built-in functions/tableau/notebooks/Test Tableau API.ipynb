{
 "cells": [
  {
   "cell_type": "markdown",
   "metadata": {
    "toc": true
   },
   "source": [
    "<h1>Table of Contents<span class=\"tocSkip\"></span></h1>\n",
    "<div class=\"toc\"><ul class=\"toc-item\"><li><span><a href=\"#Avec-TabCmd\" data-toc-modified-id=\"Avec-TabCmd-1\"><span class=\"toc-item-num\">1&nbsp;&nbsp;</span>Avec TabCmd</a></span></li><li><span><a href=\"#Avec-l'API-REST\" data-toc-modified-id=\"Avec-l'API-REST-2\"><span class=\"toc-item-num\">2&nbsp;&nbsp;</span>Avec l'API REST</a></span><ul class=\"toc-item\"><li><span><a href=\"#Sans-encapsulateur\" data-toc-modified-id=\"Sans-encapsulateur-2.1\"><span class=\"toc-item-num\">2.1&nbsp;&nbsp;</span>Sans encapsulateur</a></span></li><li><span><a href=\"#Avec-encapsulateur\" data-toc-modified-id=\"Avec-encapsulateur-2.2\"><span class=\"toc-item-num\">2.2&nbsp;&nbsp;</span>Avec encapsulateur</a></span></li></ul></li></ul></div>"
   ]
  },
  {
   "cell_type": "markdown",
   "metadata": {},
   "source": [
    "Next steps:\n",
    "* Commenter\n",
    "* Sources\n",
    "* API Rest\n",
    "* Laius sur le workbook"
   ]
  },
  {
   "cell_type": "code",
   "execution_count": 1,
   "metadata": {
    "ExecuteTime": {
     "end_time": "2018-02-16T09:07:28.339632Z",
     "start_time": "2018-02-16T09:07:28.054632Z"
    },
    "init_cell": true
   },
   "outputs": [],
   "source": [
    "% reload_ext autoreload\n",
    "% autoreload 2"
   ]
  },
  {
   "cell_type": "code",
   "execution_count": 2,
   "metadata": {
    "ExecuteTime": {
     "end_time": "2018-02-16T09:07:28.562632Z",
     "start_time": "2018-02-16T09:07:28.345632Z"
    },
    "init_cell": true
   },
   "outputs": [],
   "source": [
    "import sys\n",
    "sys.path.append('../../../')"
   ]
  },
  {
   "cell_type": "code",
   "execution_count": 3,
   "metadata": {
    "ExecuteTime": {
     "end_time": "2018-02-16T09:07:29.782632Z",
     "start_time": "2018-02-16T09:07:28.567632Z"
    },
    "init_cell": true
   },
   "outputs": [],
   "source": [
    "from ekimetrics.tableau.pdf import TableauREST, TableauTabCmd"
   ]
  },
  {
   "cell_type": "markdown",
   "metadata": {},
   "source": [
    "# Avec TabCmd"
   ]
  },
  {
   "cell_type": "code",
   "execution_count": 4,
   "metadata": {
    "ExecuteTime": {
     "end_time": "2018-02-16T09:08:05.124632Z",
     "start_time": "2018-02-16T09:08:04.769632Z"
    }
   },
   "outputs": [],
   "source": [
    "tableau = TableauTabCmd(username='nissan_dev', password='qDK92rp6', server_url='http://bigdata.ekimetrics.com')"
   ]
  },
  {
   "cell_type": "code",
   "execution_count": 8,
   "metadata": {
    "ExecuteTime": {
     "end_time": "2018-02-16T09:16:45.094671Z",
     "start_time": "2018-02-16T09:16:41.835345Z"
    }
   },
   "outputs": [],
   "source": [
    "tableau.login()"
   ]
  },
  {
   "cell_type": "markdown",
   "metadata": {},
   "source": [
    "Exemple sur "
   ]
  },
  {
   "cell_type": "code",
   "execution_count": 11,
   "metadata": {
    "ExecuteTime": {
     "end_time": "2018-02-16T09:20:56.856845Z",
     "start_time": "2018-02-16T09:20:39.984157Z"
    }
   },
   "outputs": [],
   "source": [
    "for dealer in ['0101', '0102']:\n",
    "    tableau.get_pdf(\n",
    "        workbook='20170906NissanASDashboardvFR', \n",
    "        view='Analyseindicateurs',\n",
    "        filters={'Dealer Clean': dealer},\n",
    "        filepath='test dealer ' + dealer + '.pdf'\n",
    "    )"
   ]
  },
  {
   "cell_type": "code",
   "execution_count": 15,
   "metadata": {
    "ExecuteTime": {
     "end_time": "2018-02-12T15:46:53.779046Z",
     "start_time": "2018-02-12T15:46:51.771845Z"
    }
   },
   "outputs": [],
   "source": [
    "tableau.logout()"
   ]
  },
  {
   "cell_type": "markdown",
   "metadata": {},
   "source": [
    "# Avec l'API REST"
   ]
  },
  {
   "cell_type": "markdown",
   "metadata": {},
   "source": [
    "## Sans encapsulateur"
   ]
  },
  {
   "cell_type": "code",
   "execution_count": 11,
   "metadata": {
    "ExecuteTime": {
     "end_time": "2018-02-12T14:45:52.272135Z",
     "start_time": "2018-02-12T14:45:51.432135Z"
    }
   },
   "outputs": [],
   "source": [
    "import pandas as pd\n",
    "import tableauserverclient as tsc"
   ]
  },
  {
   "cell_type": "code",
   "execution_count": 13,
   "metadata": {
    "ExecuteTime": {
     "end_time": "2018-02-12T14:47:03.521135Z",
     "start_time": "2018-02-12T14:47:02.724135Z"
    }
   },
   "outputs": [],
   "source": [
    "auth = tsc.TableauAuth(username='nissan_dev', password='qDK92rp6')\n",
    "server = tsc.Server('http://bigdata.ekimetrics.com')"
   ]
  },
  {
   "cell_type": "code",
   "execution_count": 25,
   "metadata": {
    "ExecuteTime": {
     "end_time": "2018-02-12T14:52:27.867135Z",
     "start_time": "2018-02-12T14:52:27.024135Z"
    }
   },
   "outputs": [
    {
     "ename": "EndpointUnavailableError",
     "evalue": "This endpoint is not available in API version 2.3. Requires 2.7",
     "output_type": "error",
     "traceback": [
      "\u001b[1;31m---------------------------------------------------------------------------\u001b[0m",
      "\u001b[1;31mEndpointUnavailableError\u001b[0m                  Traceback (most recent call last)",
      "\u001b[1;32m<ipython-input-25-0f175c502d9c>\u001b[0m in \u001b[0;36m<module>\u001b[1;34m()\u001b[0m\n\u001b[0;32m      1\u001b[0m \u001b[1;32mwith\u001b[0m \u001b[0mserver\u001b[0m\u001b[1;33m.\u001b[0m\u001b[0mauth\u001b[0m\u001b[1;33m.\u001b[0m\u001b[0msign_in\u001b[0m\u001b[1;33m(\u001b[0m\u001b[0mauth\u001b[0m\u001b[1;33m)\u001b[0m\u001b[1;33m:\u001b[0m\u001b[1;33m\u001b[0m\u001b[0m\n\u001b[1;32m----> 2\u001b[1;33m     \u001b[0mserver\u001b[0m\u001b[1;33m.\u001b[0m\u001b[0mviews\u001b[0m\u001b[1;33m.\u001b[0m\u001b[0mpopulate_pdf\u001b[0m\u001b[1;33m(\u001b[0m\u001b[0mv\u001b[0m\u001b[1;33m)\u001b[0m\u001b[1;33m\u001b[0m\u001b[0m\n\u001b[0m",
      "\u001b[1;32m~\\anaconda3\\lib\\site-packages\\tableauserverclient\\server\\endpoint\\endpoint.py\u001b[0m in \u001b[0;36mwrapper\u001b[1;34m(self, *args, **kwargs)\u001b[0m\n\u001b[0;32m    105\u001b[0m                 error = \"This endpoint is not available in API version {}. Requires {}\".format(\n\u001b[0;32m    106\u001b[0m                     server_version, minimum_supported)\n\u001b[1;32m--> 107\u001b[1;33m                 \u001b[1;32mraise\u001b[0m \u001b[0mEndpointUnavailableError\u001b[0m\u001b[1;33m(\u001b[0m\u001b[0merror\u001b[0m\u001b[1;33m)\u001b[0m\u001b[1;33m\u001b[0m\u001b[0m\n\u001b[0m\u001b[0;32m    108\u001b[0m             \u001b[1;32mreturn\u001b[0m \u001b[0mfunc\u001b[0m\u001b[1;33m(\u001b[0m\u001b[0mself\u001b[0m\u001b[1;33m,\u001b[0m \u001b[1;33m*\u001b[0m\u001b[0margs\u001b[0m\u001b[1;33m,\u001b[0m \u001b[1;33m**\u001b[0m\u001b[0mkwargs\u001b[0m\u001b[1;33m)\u001b[0m\u001b[1;33m\u001b[0m\u001b[0m\n\u001b[0;32m    109\u001b[0m         \u001b[1;32mreturn\u001b[0m \u001b[0mwrapper\u001b[0m\u001b[1;33m\u001b[0m\u001b[0m\n",
      "\u001b[1;31mEndpointUnavailableError\u001b[0m: This endpoint is not available in API version 2.3. Requires 2.7"
     ]
    }
   ],
   "source": [
    "with server.auth.sign_in(auth):\n",
    "    server.views.populate_pdf(v)"
   ]
  },
  {
   "cell_type": "code",
   "execution_count": 22,
   "metadata": {
    "ExecuteTime": {
     "end_time": "2018-02-12T14:50:34.335135Z",
     "start_time": "2018-02-12T14:50:33.512135Z"
    }
   },
   "outputs": [],
   "source": [
    "v = views[0]"
   ]
  },
  {
   "cell_type": "code",
   "execution_count": 24,
   "metadata": {
    "ExecuteTime": {
     "end_time": "2018-02-12T14:50:46.884135Z",
     "start_time": "2018-02-12T14:50:46.070135Z"
    }
   },
   "outputs": [
    {
     "ename": "AttributeError",
     "evalue": "'ViewItem' object has no attribute 'populate_pdf'",
     "output_type": "error",
     "traceback": [
      "\u001b[1;31m---------------------------------------------------------------------------\u001b[0m",
      "\u001b[1;31mAttributeError\u001b[0m                            Traceback (most recent call last)",
      "\u001b[1;32m<ipython-input-24-590953df6382>\u001b[0m in \u001b[0;36m<module>\u001b[1;34m()\u001b[0m\n\u001b[1;32m----> 1\u001b[1;33m \u001b[0mv\u001b[0m\u001b[1;33m.\u001b[0m\u001b[0mpopulate_pdf\u001b[0m\u001b[1;33m(\u001b[0m\u001b[1;33m)\u001b[0m\u001b[1;33m\u001b[0m\u001b[0m\n\u001b[0m",
      "\u001b[1;31mAttributeError\u001b[0m: 'ViewItem' object has no attribute 'populate_pdf'"
     ]
    }
   ],
   "source": [
    "v.populate_pdf()"
   ]
  },
  {
   "cell_type": "markdown",
   "metadata": {},
   "source": [
    "## Avec encapsulateur"
   ]
  },
  {
   "cell_type": "code",
   "execution_count": 7,
   "metadata": {
    "ExecuteTime": {
     "end_time": "2018-02-12T14:40:31.957380Z",
     "start_time": "2018-02-12T14:40:31.163459Z"
    }
   },
   "outputs": [],
   "source": [
    "tableau = Tableau(username='nissan_dev', password='qDK92rp6')"
   ]
  },
  {
   "cell_type": "code",
   "execution_count": 8,
   "metadata": {
    "ExecuteTime": {
     "end_time": "2018-02-12T14:40:38.084767Z",
     "start_time": "2018-02-12T14:40:37.088867Z"
    }
   },
   "outputs": [],
   "source": [
    "views = tableau.get_views()"
   ]
  },
  {
   "cell_type": "code",
   "execution_count": 10,
   "metadata": {
    "ExecuteTime": {
     "end_time": "2018-02-08T15:59:00.350402Z",
     "start_time": "2018-02-08T15:58:59.958363Z"
    }
   },
   "outputs": [
    {
     "name": "stdout",
     "output_type": "stream",
     "text": [
      "['Overview', 'Overview 2', 'Quartiles', 'Dispersion', 'NSSW', 'Dealer 360', 'A. Market Overview Sales', 'C. Map Market', 'A. NSSW Timeline', 'A. Market Overview Aftersales', 'A. Dealers Overview Sales', 'A. Dealers Overview Aftersales', 'A. Market Timeline', 'A. Dealers KPI Timeline', 'A. Dealers Timeline (Title)', 'A. Dealers Main categories KPI', 'A. Main categories KPI Sales', 'A. NSSW Scores Overview (bis)', 'A. NSSW Scores Overview', 'A. NSSW Timeline (bis)', 'A. Market Timeline (Title)', 'A. Mapping Cross-Chart', 'A. CVAS Timeline', 'A. Mystery Timeline', 'A. GK Timeline', 'A. Quality Timeline', 'B. NSSW Score', 'A. Mapping CVAS MSC', 'A. Quality Distribution', 'B. CVAS Table', 'B. CVAS Table title', 'B. CVAS Table Scores', 'B. CVAS Table M-1', 'B. CVAS Table Y-1', 'B. Mystery Table', 'B. Mystery Table Score', 'B. Mystery Title', 'B. Mystery Table M-1', 'B. Mystery Table Y-1', 'B. GK Table', 'B. GK Table M-1', 'B. GK Table Y-1', 'B. GK Table Score', 'B. GK Title', 'B. Quality Score', 'B. Quality Table Vs M-1', 'B. Quality Table Vs Y-1', 'B. NSSW Score (bis)', 'B. NSSW Target Table (bis)', 'B. NSSW Target Table', 'B. C Table', 'B. T Table', 'B. Market Top 5', 'B.Market Top 5 (bis)', 'B. Market Worst 5', 'B. Cross Chart Top 5', 'B. Cross Chart Worst 5', 'B. Correlation label', 'B. Correlation score', 'B. PC Category info', 'B. LCV Category info', 'B. Truck Category info', 'B. Sales Only info', 'B. Sales & Aftersales info', 'B. Aftersales only info', 'B. Categories table info p1', 'B. Categories tabe info p2', 'B. Sales info', 'B. Aftersales info', 'B. List_Dealers_Quartiles', 'C. Map Selection Overview', 'C. Map Selection Quartiles', 'C. Map Quartiles Outlets', 'D.Title', 'D. Title Market', 'D. Title NSSW (bis)', 'D. Title NSSW', 'D. Title Main categories Market', 'D. Title Main categories Dealers', 'D. Title Market Overview', 'D. Title NSSW Table (bis)', 'D. Title NSSW Table', 'D. Title Dealers Overview', 'D. Title Top/Worst', 'D. Quartile Map Title', 'D. Title Top/Worst Market', 'D. Title Quartile V2', 'D. Title Overview', 'D. Title Map Overview', 'D. Title Quartiles Entity', 'D. Title Quartiles Quartile', 'D. Title Mapping Quartiles Date', 'D. Title Table Quartiles Date', 'E. Overview Bar', 'E. Quartile Bar', 'E. Dealer Bar', 'E. Dealer Bar selected', 'E. Dispersion Bar', 'E. Dispersion Bar selected', 'E. Market Bar']\n"
     ]
    }
   ],
   "source": [
    "print([view.name for view in views])"
   ]
  },
  {
   "cell_type": "code",
   "execution_count": 9,
   "metadata": {
    "ExecuteTime": {
     "end_time": "2018-02-12T14:40:51.730403Z",
     "start_time": "2018-02-12T14:40:50.943481Z"
    }
   },
   "outputs": [],
   "source": [
    "overview = views[0]"
   ]
  },
  {
   "cell_type": "code",
   "execution_count": 10,
   "metadata": {
    "ExecuteTime": {
     "end_time": "2018-02-12T14:41:09.463629Z",
     "start_time": "2018-02-12T14:41:08.162759Z"
    }
   },
   "outputs": [
    {
     "ename": "UnpopulatedPropertyError",
     "evalue": "View item must be populated with its pdf first.",
     "output_type": "error",
     "traceback": [
      "\u001b[1;31m---------------------------------------------------------------------------\u001b[0m",
      "\u001b[1;31mUnpopulatedPropertyError\u001b[0m                  Traceback (most recent call last)",
      "\u001b[1;32m<ipython-input-10-98f60186deab>\u001b[0m in \u001b[0;36m<module>\u001b[1;34m()\u001b[0m\n\u001b[1;32m----> 1\u001b[1;33m \u001b[0moverview\u001b[0m\u001b[1;33m.\u001b[0m\u001b[0mpdf\u001b[0m\u001b[1;33m(\u001b[0m\u001b[1;33m)\u001b[0m\u001b[1;33m\u001b[0m\u001b[0m\n\u001b[0m",
      "\u001b[1;32m~\\anaconda3\\lib\\site-packages\\tableauserverclient\\models\\view_item.py\u001b[0m in \u001b[0;36mpdf\u001b[1;34m(self)\u001b[0m\n\u001b[0;32m     64\u001b[0m         \u001b[1;32mif\u001b[0m \u001b[0mself\u001b[0m\u001b[1;33m.\u001b[0m\u001b[0m_pdf\u001b[0m \u001b[1;32mis\u001b[0m \u001b[1;32mNone\u001b[0m\u001b[1;33m:\u001b[0m\u001b[1;33m\u001b[0m\u001b[0m\n\u001b[0;32m     65\u001b[0m             \u001b[0merror\u001b[0m \u001b[1;33m=\u001b[0m \u001b[1;34m\"View item must be populated with its pdf first.\"\u001b[0m\u001b[1;33m\u001b[0m\u001b[0m\n\u001b[1;32m---> 66\u001b[1;33m             \u001b[1;32mraise\u001b[0m \u001b[0mUnpopulatedPropertyError\u001b[0m\u001b[1;33m(\u001b[0m\u001b[0merror\u001b[0m\u001b[1;33m)\u001b[0m\u001b[1;33m\u001b[0m\u001b[0m\n\u001b[0m\u001b[0;32m     67\u001b[0m         \u001b[1;32mreturn\u001b[0m \u001b[0mself\u001b[0m\u001b[1;33m.\u001b[0m\u001b[0m_pdf\u001b[0m\u001b[1;33m(\u001b[0m\u001b[1;33m)\u001b[0m\u001b[1;33m\u001b[0m\u001b[0m\n\u001b[0;32m     68\u001b[0m \u001b[1;33m\u001b[0m\u001b[0m\n",
      "\u001b[1;31mUnpopulatedPropertyError\u001b[0m: View item must be populated with its pdf first."
     ]
    }
   ],
   "source": []
  },
  {
   "cell_type": "code",
   "execution_count": null,
   "metadata": {},
   "outputs": [],
   "source": []
  }
 ],
 "metadata": {
  "kernelspec": {
   "display_name": "Python [conda root]",
   "language": "python",
   "name": "conda-root-py"
  },
  "language_info": {
   "codemirror_mode": {
    "name": "ipython",
    "version": 3
   },
   "file_extension": ".py",
   "mimetype": "text/x-python",
   "name": "python",
   "nbconvert_exporter": "python",
   "pygments_lexer": "ipython3",
   "version": "3.6.4"
  },
  "toc": {
   "nav_menu": {},
   "number_sections": true,
   "sideBar": true,
   "skip_h1_title": false,
   "title_cell": "Table of Contents",
   "title_sidebar": "Contents",
   "toc_cell": true,
   "toc_position": {},
   "toc_section_display": true,
   "toc_window_display": false
  },
  "varInspector": {
   "cols": {
    "lenName": 16,
    "lenType": 16,
    "lenVar": 40
   },
   "kernels_config": {
    "python": {
     "delete_cmd_postfix": "",
     "delete_cmd_prefix": "del ",
     "library": "var_list.py",
     "varRefreshCmd": "print(var_dic_list())"
    },
    "r": {
     "delete_cmd_postfix": ") ",
     "delete_cmd_prefix": "rm(",
     "library": "var_list.r",
     "varRefreshCmd": "cat(var_dic_list()) "
    }
   },
   "types_to_exclude": [
    "module",
    "function",
    "builtin_function_or_method",
    "instance",
    "_Feature"
   ],
   "window_display": false
  }
 },
 "nbformat": 4,
 "nbformat_minor": 2
}
