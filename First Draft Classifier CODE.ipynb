{
 "cells": [
  {
   "cell_type": "markdown",
   "metadata": {},
   "source": [
    "# Frist Draft Classifier CODE"
   ]
  },
  {
   "cell_type": "markdown",
   "metadata": {},
   "source": [
    "I changed few things compared to the explained code :\n",
    "\n",
    "- I put the hyperparameters at the begining of the code\n",
    "- I put the process of the Test set before fitting the part to have an estimation of each model on the block where I fit the model (to have a better visualisation of the result)\n",
    "- I changed Size_Data to min(Size_Data , len(Data)) in the different functions. That way, if you set Size data to a very high value, the algorithm use all the data available\n",
    "- I use np.average(y_predRF == y_test) to get the prediction of a model\n",
    "- I removed the scaling part that is not used\n",
    "- I Create simultanetly X_train_tfidf and X_train_cv to use both on different models\n"
   ]
  },
  {
   "cell_type": "markdown",
   "metadata": {},
   "source": [
    "## I Import Library"
   ]
  },
  {
   "cell_type": "code",
   "execution_count": 1,
   "metadata": {},
   "outputs": [],
   "source": [
    "import numpy as np\n",
    "import pandas as pd\n",
    "import re\n",
    "import nltk\n",
    "from nltk.corpus import stopwords\n",
    "from nltk.stem import WordNetLemmatizer\n"
   ]
  },
  {
   "cell_type": "markdown",
   "metadata": {},
   "source": [
    "## II Hyperparameters"
   ]
  },
  {
   "cell_type": "code",
   "execution_count": 2,
   "metadata": {},
   "outputs": [],
   "source": [
    "Size_Data = 10000 # Number of sample considerate for training and test\n",
    "Max_NB_Word = 80000 # Only considerate the 80 000 more common words (110 000 actually)\n",
    "r_split=0.2"
   ]
  },
  {
   "cell_type": "markdown",
   "metadata": {},
   "source": [
    "## III Import Data"
   ]
  },
  {
   "cell_type": "code",
   "execution_count": 3,
   "metadata": {},
   "outputs": [],
   "source": [
    "#Read Data\n",
    "dataset_Healthy = pd.read_excel(r'C:\\Users\\Alu\\Desktop\\S and P Global\\Funds Articles_Healthy_New.xlsx', dtype={'Name':str}, quoting = 3)\n",
    "dataset_Unhealthy = pd.read_excel(r'C:\\Users\\Alu\\Desktop\\S and P Global\\Fund Articles_Unhealthy_New.xlsx', dtype={'Name':str}, quoting = 3)\n",
    "\n",
    "#Rename Columns\n",
    "dataset_Healthy.columns = ['Articles', 'Labels']\n",
    "dataset_Unhealthy.columns = ['Articles', 'Labels']\n",
    "\n",
    "#Create Labels\n",
    "dataset_Healthy['Labels']=1\n",
    "dataset_Unhealthy['Labels']=0\n",
    "\n",
    "#Schuffle\n",
    "dataset_Healthy = dataset_Healthy.sample(frac=1).reset_index(drop=True)\n",
    "dataset_Unhealthy = dataset_Unhealthy.sample(frac=1).reset_index(drop=True)\n",
    "\n",
    "#Troncaturate\n",
    "dataset_Healthy = dataset_Healthy[:min(int(Size_Data/2),len(dataset_Healthy))]\n",
    "dataset_Unhealthy = dataset_Unhealthy[:min(int(Size_Data/2),len(dataset_Unhealthy))]\n",
    "\n",
    "#Concatenate\n",
    "Data = pd.concat([dataset_Healthy,dataset_Unhealthy])\n",
    "Data = Data.sample(frac=1).reset_index(drop=True)\n",
    "\n",
    "#Split train and test\n",
    "Data_train =  Data[:int(Size_Data*(1-r_split))].reset_index(drop=True)\n",
    "Data_test =  Data[int(Size_Data*(1-r_split)):Size_Data].reset_index(drop=True)\n"
   ]
  },
  {
   "cell_type": "markdown",
   "metadata": {},
   "source": [
    "## IV Preprocessing"
   ]
  },
  {
   "cell_type": "code",
   "execution_count": 4,
   "metadata": {},
   "outputs": [],
   "source": [
    "stopwords = set(stopwords.words('english'))\n",
    "wordnet_lemmatizer = WordNetLemmatizer()\n",
    "def my_tokenizerI(s):\n",
    "    s = re.sub('[^1-9a-zA-Z]', ' ', s)\n",
    "    s = s.lower() \n",
    "    tokens = nltk.tokenize.word_tokenize(s)\n",
    "    tokens = [t for t in tokens if len(t) > 2] \n",
    "    tokens = [wordnet_lemmatizer.lemmatize(t) for t in tokens] \n",
    "    tokens = [t for t in tokens if t not in stopwords] \n",
    "    s = ' '.join(tokens)\n",
    "    return s\n",
    "\n",
    "\n",
    "corpus_train =[]\n",
    "for i in range (0,int(min(Size_Data,len(Data))*(1-r_split))):\n",
    "    Tokens = my_tokenizerI(Data_train['Articles'][i])\n",
    "    corpus_train.append(Tokens)\n",
    "\n",
    "    \n",
    "# Creating the Bag of Words model or tfidf model or Glove mean\n",
    "from sklearn.feature_extraction.text import CountVectorizer , TfidfVectorizer\n",
    "cv = CountVectorizer(max_features=Max_NB_Word)\n",
    "X_train_cv = cv.fit_transform(corpus_train).toarray()\n",
    "\n",
    "tfidf=TfidfVectorizer(max_features=Max_NB_Word)\n",
    "X_train_tfidf=tfidf.fit_transform(corpus_train).toarray()\n",
    "\n",
    "\n",
    "y_train = Data_train.iloc[:, 1].values"
   ]
  },
  {
   "cell_type": "markdown",
   "metadata": {},
   "source": [
    "## V Process Test"
   ]
  },
  {
   "cell_type": "code",
   "execution_count": 5,
   "metadata": {},
   "outputs": [],
   "source": [
    "corpus_test =[]\n",
    "for i in range (0,int(min(Size_Data,len(Data))*(r_split))):\n",
    "    Tokens = my_tokenizerI(Data_test['Articles'][i])\n",
    "    corpus_test.append(Tokens)\n",
    "\n",
    "X_test_tfidf=tfidf.transform(corpus_test).toarray()\n",
    "X_test_cv=cv.transform(corpus_test).toarray()\n",
    "\n",
    "y_test = Data_test.iloc[:, 1].values\n"
   ]
  },
  {
   "cell_type": "markdown",
   "metadata": {},
   "source": [
    "## VI Fit Model and evaluate"
   ]
  },
  {
   "cell_type": "markdown",
   "metadata": {},
   "source": [
    "__Logistic Regression__"
   ]
  },
  {
   "cell_type": "code",
   "execution_count": 6,
   "metadata": {},
   "outputs": [
    {
     "data": {
      "text/plain": [
       "0.9065"
      ]
     },
     "execution_count": 6,
     "metadata": {},
     "output_type": "execute_result"
    }
   ],
   "source": [
    "from sklearn.linear_model import LogisticRegression\n",
    "classifierLR = LogisticRegression()\n",
    "classifierLR.fit(X_train_cv, y_train)\n",
    "y_predLR=classifierLR.predict(X_test_cv)\n",
    "np.average(y_predLR == y_test)\n"
   ]
  },
  {
   "cell_type": "markdown",
   "metadata": {},
   "source": [
    "__Naive Bayes__"
   ]
  },
  {
   "cell_type": "code",
   "execution_count": 7,
   "metadata": {},
   "outputs": [
    {
     "data": {
      "text/plain": [
       "0.8025"
      ]
     },
     "execution_count": 7,
     "metadata": {},
     "output_type": "execute_result"
    }
   ],
   "source": [
    "from sklearn.naive_bayes import GaussianNB\n",
    "classifierNB = GaussianNB()\n",
    "classifierNB.fit(X_train_tfidf, y_train)\n",
    "y_predNB=classifierNB.predict(X_test_tfidf)\n",
    "np.average(y_predNB == y_test)"
   ]
  },
  {
   "cell_type": "markdown",
   "metadata": {},
   "source": [
    "__Random Forest__"
   ]
  },
  {
   "cell_type": "code",
   "execution_count": null,
   "metadata": {},
   "outputs": [
    {
     "data": {
      "text/plain": [
       "0.891"
      ]
     },
     "execution_count": 8,
     "metadata": {},
     "output_type": "execute_result"
    }
   ],
   "source": [
    "from sklearn.ensemble import RandomForestClassifier\n",
    "classifierRF = RandomForestClassifier(n_estimators = 20, criterion = 'entropy')\n",
    "classifierRF.fit(X_train_tfidf, y_train)\n",
    "y_predRF=classifierRF.predict(X_test_tfidf)\n",
    "np.average(y_predRF == y_test)"
   ]
  },
  {
   "cell_type": "markdown",
   "metadata": {},
   "source": [
    "__SVM__"
   ]
  },
  {
   "cell_type": "code",
   "execution_count": null,
   "metadata": {},
   "outputs": [],
   "source": [
    "from sklearn.svm import SVC\n",
    "classifierSVC = SVC(kernel = 'rbf')\n",
    "classifierSVC.fit(X_train_tfidf, y_train)\n",
    "y_predSVC=classifierSVC.predict(X_test_tfidf)\n",
    "np.average(y_predSVC == y_test)"
   ]
  },
  {
   "cell_type": "code",
   "execution_count": null,
   "metadata": {},
   "outputs": [],
   "source": []
  }
 ],
 "metadata": {
  "kernelspec": {
   "display_name": "Python 3",
   "language": "python",
   "name": "python3"
  },
  "language_info": {
   "codemirror_mode": {
    "name": "ipython",
    "version": 3
   },
   "file_extension": ".py",
   "mimetype": "text/x-python",
   "name": "python",
   "nbconvert_exporter": "python",
   "pygments_lexer": "ipython3",
   "version": "3.6.4"
  }
 },
 "nbformat": 4,
 "nbformat_minor": 2
}
